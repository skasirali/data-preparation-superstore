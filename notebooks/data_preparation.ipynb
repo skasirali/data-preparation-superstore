{
  "cells": [
    {
      "cell_type": "markdown",
      "metadata": {
        "id": "a411f75b"
      },
      "source": [
        "# 🧼 Data Preparation: Beginner Project\n",
        "\n",
        "This notebook performs basic data loading, cleaning, and visualization using **pandas** and **matplotlib**."
      ]
    },
    {
      "cell_type": "markdown",
      "metadata": {
        "id": "ac7b85c4"
      },
      "source": [
        "**1. DATA PREPARATION**"
      ]
    },
    {
      "cell_type": "markdown",
      "metadata": {
        "id": "595725b8"
      },
      "source": [
        "ADDING DATA INTO THE DATAFRAME"
      ]
    },
    {
      "cell_type": "code",
      "execution_count": 15,
      "metadata": {
        "colab": {
          "base_uri": "https://localhost:8080/",
          "height": 74
        },
        "id": "0eb557af",
        "outputId": "8ce462fa-2f3b-498b-8536-3b93f599e797"
      },
      "outputs": [
        {
          "output_type": "display_data",
          "data": {
            "text/plain": [
              "<IPython.core.display.HTML object>"
            ],
            "text/html": [
              "\n",
              "     <input type=\"file\" id=\"files-76d1f436-8c40-4aac-acaa-f1c8318c5156\" name=\"files[]\" multiple disabled\n",
              "        style=\"border:none\" />\n",
              "     <output id=\"result-76d1f436-8c40-4aac-acaa-f1c8318c5156\">\n",
              "      Upload widget is only available when the cell has been executed in the\n",
              "      current browser session. Please rerun this cell to enable.\n",
              "      </output>\n",
              "      <script>// Copyright 2017 Google LLC\n",
              "//\n",
              "// Licensed under the Apache License, Version 2.0 (the \"License\");\n",
              "// you may not use this file except in compliance with the License.\n",
              "// You may obtain a copy of the License at\n",
              "//\n",
              "//      http://www.apache.org/licenses/LICENSE-2.0\n",
              "//\n",
              "// Unless required by applicable law or agreed to in writing, software\n",
              "// distributed under the License is distributed on an \"AS IS\" BASIS,\n",
              "// WITHOUT WARRANTIES OR CONDITIONS OF ANY KIND, either express or implied.\n",
              "// See the License for the specific language governing permissions and\n",
              "// limitations under the License.\n",
              "\n",
              "/**\n",
              " * @fileoverview Helpers for google.colab Python module.\n",
              " */\n",
              "(function(scope) {\n",
              "function span(text, styleAttributes = {}) {\n",
              "  const element = document.createElement('span');\n",
              "  element.textContent = text;\n",
              "  for (const key of Object.keys(styleAttributes)) {\n",
              "    element.style[key] = styleAttributes[key];\n",
              "  }\n",
              "  return element;\n",
              "}\n",
              "\n",
              "// Max number of bytes which will be uploaded at a time.\n",
              "const MAX_PAYLOAD_SIZE = 100 * 1024;\n",
              "\n",
              "function _uploadFiles(inputId, outputId) {\n",
              "  const steps = uploadFilesStep(inputId, outputId);\n",
              "  const outputElement = document.getElementById(outputId);\n",
              "  // Cache steps on the outputElement to make it available for the next call\n",
              "  // to uploadFilesContinue from Python.\n",
              "  outputElement.steps = steps;\n",
              "\n",
              "  return _uploadFilesContinue(outputId);\n",
              "}\n",
              "\n",
              "// This is roughly an async generator (not supported in the browser yet),\n",
              "// where there are multiple asynchronous steps and the Python side is going\n",
              "// to poll for completion of each step.\n",
              "// This uses a Promise to block the python side on completion of each step,\n",
              "// then passes the result of the previous step as the input to the next step.\n",
              "function _uploadFilesContinue(outputId) {\n",
              "  const outputElement = document.getElementById(outputId);\n",
              "  const steps = outputElement.steps;\n",
              "\n",
              "  const next = steps.next(outputElement.lastPromiseValue);\n",
              "  return Promise.resolve(next.value.promise).then((value) => {\n",
              "    // Cache the last promise value to make it available to the next\n",
              "    // step of the generator.\n",
              "    outputElement.lastPromiseValue = value;\n",
              "    return next.value.response;\n",
              "  });\n",
              "}\n",
              "\n",
              "/**\n",
              " * Generator function which is called between each async step of the upload\n",
              " * process.\n",
              " * @param {string} inputId Element ID of the input file picker element.\n",
              " * @param {string} outputId Element ID of the output display.\n",
              " * @return {!Iterable<!Object>} Iterable of next steps.\n",
              " */\n",
              "function* uploadFilesStep(inputId, outputId) {\n",
              "  const inputElement = document.getElementById(inputId);\n",
              "  inputElement.disabled = false;\n",
              "\n",
              "  const outputElement = document.getElementById(outputId);\n",
              "  outputElement.innerHTML = '';\n",
              "\n",
              "  const pickedPromise = new Promise((resolve) => {\n",
              "    inputElement.addEventListener('change', (e) => {\n",
              "      resolve(e.target.files);\n",
              "    });\n",
              "  });\n",
              "\n",
              "  const cancel = document.createElement('button');\n",
              "  inputElement.parentElement.appendChild(cancel);\n",
              "  cancel.textContent = 'Cancel upload';\n",
              "  const cancelPromise = new Promise((resolve) => {\n",
              "    cancel.onclick = () => {\n",
              "      resolve(null);\n",
              "    };\n",
              "  });\n",
              "\n",
              "  // Wait for the user to pick the files.\n",
              "  const files = yield {\n",
              "    promise: Promise.race([pickedPromise, cancelPromise]),\n",
              "    response: {\n",
              "      action: 'starting',\n",
              "    }\n",
              "  };\n",
              "\n",
              "  cancel.remove();\n",
              "\n",
              "  // Disable the input element since further picks are not allowed.\n",
              "  inputElement.disabled = true;\n",
              "\n",
              "  if (!files) {\n",
              "    return {\n",
              "      response: {\n",
              "        action: 'complete',\n",
              "      }\n",
              "    };\n",
              "  }\n",
              "\n",
              "  for (const file of files) {\n",
              "    const li = document.createElement('li');\n",
              "    li.append(span(file.name, {fontWeight: 'bold'}));\n",
              "    li.append(span(\n",
              "        `(${file.type || 'n/a'}) - ${file.size} bytes, ` +\n",
              "        `last modified: ${\n",
              "            file.lastModifiedDate ? file.lastModifiedDate.toLocaleDateString() :\n",
              "                                    'n/a'} - `));\n",
              "    const percent = span('0% done');\n",
              "    li.appendChild(percent);\n",
              "\n",
              "    outputElement.appendChild(li);\n",
              "\n",
              "    const fileDataPromise = new Promise((resolve) => {\n",
              "      const reader = new FileReader();\n",
              "      reader.onload = (e) => {\n",
              "        resolve(e.target.result);\n",
              "      };\n",
              "      reader.readAsArrayBuffer(file);\n",
              "    });\n",
              "    // Wait for the data to be ready.\n",
              "    let fileData = yield {\n",
              "      promise: fileDataPromise,\n",
              "      response: {\n",
              "        action: 'continue',\n",
              "      }\n",
              "    };\n",
              "\n",
              "    // Use a chunked sending to avoid message size limits. See b/62115660.\n",
              "    let position = 0;\n",
              "    do {\n",
              "      const length = Math.min(fileData.byteLength - position, MAX_PAYLOAD_SIZE);\n",
              "      const chunk = new Uint8Array(fileData, position, length);\n",
              "      position += length;\n",
              "\n",
              "      const base64 = btoa(String.fromCharCode.apply(null, chunk));\n",
              "      yield {\n",
              "        response: {\n",
              "          action: 'append',\n",
              "          file: file.name,\n",
              "          data: base64,\n",
              "        },\n",
              "      };\n",
              "\n",
              "      let percentDone = fileData.byteLength === 0 ?\n",
              "          100 :\n",
              "          Math.round((position / fileData.byteLength) * 100);\n",
              "      percent.textContent = `${percentDone}% done`;\n",
              "\n",
              "    } while (position < fileData.byteLength);\n",
              "  }\n",
              "\n",
              "  // All done.\n",
              "  yield {\n",
              "    response: {\n",
              "      action: 'complete',\n",
              "    }\n",
              "  };\n",
              "}\n",
              "\n",
              "scope.google = scope.google || {};\n",
              "scope.google.colab = scope.google.colab || {};\n",
              "scope.google.colab._files = {\n",
              "  _uploadFiles,\n",
              "  _uploadFilesContinue,\n",
              "};\n",
              "})(self);\n",
              "</script> "
            ]
          },
          "metadata": {}
        },
        {
          "output_type": "stream",
          "name": "stdout",
          "text": [
            "Saving Sample - Superstore.csv to Sample - Superstore (1).csv\n"
          ]
        }
      ],
      "source": [
        "#importing the necessary module\n",
        "from google.colab import files\n",
        "#uploading the file\n",
        "uploaded=files.upload()"
      ]
    },
    {
      "cell_type": "markdown",
      "metadata": {
        "id": "793b958b"
      },
      "source": [
        "# DISCIPLING THE FIRST FEW ROWS OF THE DATAFRAME"
      ]
    },
    {
      "cell_type": "markdown",
      "metadata": {
        "id": "f63b2f29"
      },
      "source": [
        "## 📥 Step 1: Load the Dataset"
      ]
    },
    {
      "cell_type": "code",
      "execution_count": 16,
      "metadata": {
        "colab": {
          "base_uri": "https://localhost:8080/"
        },
        "id": "bd9bef09",
        "outputId": "0165d79e-62b9-4400-8cc1-7268b52f2f32"
      },
      "outputs": [
        {
          "output_type": "stream",
          "name": "stdout",
          "text": [
            "   Row ID        Order ID  Order Date   Ship Date       Ship Mode Customer ID  \\\n",
            "0       1  CA-2016-152156   11/8/2016  11/11/2016    Second Class    CG-12520   \n",
            "1       2  CA-2016-152156   11/8/2016  11/11/2016    Second Class    CG-12520   \n",
            "2       3  CA-2016-138688   6/12/2016   6/16/2016    Second Class    DV-13045   \n",
            "3       4  US-2015-108966  10/11/2015  10/18/2015  Standard Class    SO-20335   \n",
            "4       5  US-2015-108966  10/11/2015  10/18/2015  Standard Class    SO-20335   \n",
            "\n",
            "     Customer Name    Segment        Country             City  ...  \\\n",
            "0      Claire Gute   Consumer  United States        Henderson  ...   \n",
            "1      Claire Gute   Consumer  United States        Henderson  ...   \n",
            "2  Darrin Van Huff  Corporate  United States      Los Angeles  ...   \n",
            "3   Sean O'Donnell   Consumer  United States  Fort Lauderdale  ...   \n",
            "4   Sean O'Donnell   Consumer  United States  Fort Lauderdale  ...   \n",
            "\n",
            "  Postal Code  Region       Product ID         Category Sub-Category  \\\n",
            "0       42420   South  FUR-BO-10001798        Furniture    Bookcases   \n",
            "1       42420   South  FUR-CH-10000454        Furniture       Chairs   \n",
            "2       90036    West  OFF-LA-10000240  Office Supplies       Labels   \n",
            "3       33311   South  FUR-TA-10000577        Furniture       Tables   \n",
            "4       33311   South  OFF-ST-10000760  Office Supplies      Storage   \n",
            "\n",
            "                                        Product Name     Sales  Quantity  \\\n",
            "0                  Bush Somerset Collection Bookcase  261.9600         2   \n",
            "1  Hon Deluxe Fabric Upholstered Stacking Chairs,...  731.9400         3   \n",
            "2  Self-Adhesive Address Labels for Typewriters b...   14.6200         2   \n",
            "3      Bretford CR4500 Series Slim Rectangular Table  957.5775         5   \n",
            "4                     Eldon Fold 'N Roll Cart System   22.3680         2   \n",
            "\n",
            "   Discount    Profit  \n",
            "0      0.00   41.9136  \n",
            "1      0.00  219.5820  \n",
            "2      0.00    6.8714  \n",
            "3      0.45 -383.0310  \n",
            "4      0.20    2.5164  \n",
            "\n",
            "[5 rows x 21 columns]\n"
          ]
        }
      ],
      "source": [
        "import pandas as pd\n",
        "#assuming the uploaded files is named 'salesData.xlsx'\n",
        "file_name =list(uploaded.keys())[0]\n",
        "df = pd.read_csv(file_name, encoding='latin1')\n",
        "\n",
        "#display the fisrt few rows of the dataFrame\n",
        "print(df.head())"
      ]
    },
    {
      "cell_type": "markdown",
      "metadata": {
        "id": "f46ae3c8"
      },
      "source": [
        "CHECKING FOR MISSING VALUES AND HANDLING THEM APPROPRIATELY\n"
      ]
    },
    {
      "cell_type": "markdown",
      "metadata": {
        "id": "f40f9455"
      },
      "source": [
        "## 🧹 Step 2: Handle Missing Values"
      ]
    },
    {
      "cell_type": "code",
      "execution_count": 18,
      "metadata": {
        "id": "54168884"
      },
      "outputs": [],
      "source": [
        "#Filling missing values with 0\n",
        "df['Sales']=df['Sales'].fillna(0)\n",
        "\n",
        "#Dropping rows with missing values\n",
        "df=df.dropna()"
      ]
    },
    {
      "cell_type": "markdown",
      "metadata": {
        "id": "0dd55f0e"
      },
      "source": [
        "REMOVE ANY DUPLICATE ROWS IF PRESENT"
      ]
    },
    {
      "cell_type": "code",
      "execution_count": 19,
      "metadata": {
        "id": "0a39ed6d"
      },
      "outputs": [],
      "source": [
        "#Removing duplicate rows if present\n",
        "df=df.drop_duplicates()"
      ]
    },
    {
      "cell_type": "markdown",
      "metadata": {
        "id": "64624004"
      },
      "source": [
        "A**2.DATA CLEANING**"
      ]
    },
    {
      "cell_type": "markdown",
      "metadata": {
        "id": "aa15acc2"
      },
      "source": [
        "CONVERT THE 'POSTAL CODE' COLUMN TO A STRING TYPE"
      ]
    },
    {
      "cell_type": "markdown",
      "metadata": {
        "id": "7eb973ec"
      },
      "source": [
        "## 🔄 Step 3: Data Type Conversion"
      ]
    },
    {
      "cell_type": "code",
      "execution_count": 20,
      "metadata": {
        "colab": {
          "base_uri": "https://localhost:8080/"
        },
        "id": "f132725e",
        "outputId": "3a9ccaaf-b3fb-42f8-d97b-3e9eb8839511"
      },
      "outputs": [
        {
          "output_type": "stream",
          "name": "stdout",
          "text": [
            "      Row ID        Order ID  Order Date   Ship Date       Ship Mode  \\\n",
            "0          1  CA-2016-152156   11/8/2016  11/11/2016    Second Class   \n",
            "1          2  CA-2016-152156   11/8/2016  11/11/2016    Second Class   \n",
            "2          3  CA-2016-138688   6/12/2016   6/16/2016    Second Class   \n",
            "3          4  US-2015-108966  10/11/2015  10/18/2015  Standard Class   \n",
            "4          5  US-2015-108966  10/11/2015  10/18/2015  Standard Class   \n",
            "...      ...             ...         ...         ...             ...   \n",
            "9989    9990  CA-2014-110422   1/21/2014   1/23/2014    Second Class   \n",
            "9990    9991  CA-2017-121258   2/26/2017    3/3/2017  Standard Class   \n",
            "9991    9992  CA-2017-121258   2/26/2017    3/3/2017  Standard Class   \n",
            "9992    9993  CA-2017-121258   2/26/2017    3/3/2017  Standard Class   \n",
            "9993    9994  CA-2017-119914    5/4/2017    5/9/2017    Second Class   \n",
            "\n",
            "     Customer ID     Customer Name    Segment        Country             City  \\\n",
            "0       CG-12520       Claire Gute   Consumer  United States        Henderson   \n",
            "1       CG-12520       Claire Gute   Consumer  United States        Henderson   \n",
            "2       DV-13045   Darrin Van Huff  Corporate  United States      Los Angeles   \n",
            "3       SO-20335    Sean O'Donnell   Consumer  United States  Fort Lauderdale   \n",
            "4       SO-20335    Sean O'Donnell   Consumer  United States  Fort Lauderdale   \n",
            "...          ...               ...        ...            ...              ...   \n",
            "9989    TB-21400  Tom Boeckenhauer   Consumer  United States            Miami   \n",
            "9990    DB-13060       Dave Brooks   Consumer  United States       Costa Mesa   \n",
            "9991    DB-13060       Dave Brooks   Consumer  United States       Costa Mesa   \n",
            "9992    DB-13060       Dave Brooks   Consumer  United States       Costa Mesa   \n",
            "9993    CC-12220      Chris Cortes   Consumer  United States      Westminster   \n",
            "\n",
            "      ... Postal Code Region       Product ID         Category Sub-Category  \\\n",
            "0     ...       42420  South  FUR-BO-10001798        Furniture    Bookcases   \n",
            "1     ...       42420  South  FUR-CH-10000454        Furniture       Chairs   \n",
            "2     ...       90036   West  OFF-LA-10000240  Office Supplies       Labels   \n",
            "3     ...       33311  South  FUR-TA-10000577        Furniture       Tables   \n",
            "4     ...       33311  South  OFF-ST-10000760  Office Supplies      Storage   \n",
            "...   ...         ...    ...              ...              ...          ...   \n",
            "9989  ...       33180  South  FUR-FU-10001889        Furniture  Furnishings   \n",
            "9990  ...       92627   West  FUR-FU-10000747        Furniture  Furnishings   \n",
            "9991  ...       92627   West  TEC-PH-10003645       Technology       Phones   \n",
            "9992  ...       92627   West  OFF-PA-10004041  Office Supplies        Paper   \n",
            "9993  ...       92683   West  OFF-AP-10002684  Office Supplies   Appliances   \n",
            "\n",
            "                                           Product Name     Sales  Quantity  \\\n",
            "0                     Bush Somerset Collection Bookcase  261.9600         2   \n",
            "1     Hon Deluxe Fabric Upholstered Stacking Chairs,...  731.9400         3   \n",
            "2     Self-Adhesive Address Labels for Typewriters b...   14.6200         2   \n",
            "3         Bretford CR4500 Series Slim Rectangular Table  957.5775         5   \n",
            "4                        Eldon Fold 'N Roll Cart System   22.3680         2   \n",
            "...                                                 ...       ...       ...   \n",
            "9989                             Ultra Door Pull Handle   25.2480         3   \n",
            "9990  Tenex B1-RE Series Chair Mats for Low Pile Car...   91.9600         2   \n",
            "9991                              Aastra 57i VoIP phone  258.5760         2   \n",
            "9992  It's Hot Message Books with Stickers, 2 3/4\" x 5\"   29.6000         4   \n",
            "9993  Acco 7-Outlet Masterpiece Power Center, Wihtou...  243.1600         2   \n",
            "\n",
            "      Discount    Profit  \n",
            "0         0.00   41.9136  \n",
            "1         0.00  219.5820  \n",
            "2         0.00    6.8714  \n",
            "3         0.45 -383.0310  \n",
            "4         0.20    2.5164  \n",
            "...        ...       ...  \n",
            "9989      0.20    4.1028  \n",
            "9990      0.00   15.6332  \n",
            "9991      0.20   19.3932  \n",
            "9992      0.00   13.3200  \n",
            "9993      0.00   72.9480  \n",
            "\n",
            "[9994 rows x 21 columns]\n"
          ]
        }
      ],
      "source": [
        "# Check if postal code exist\n",
        "if 'Postal Code' in df.columns:\n",
        "    # Convert the 'Postal Code' column to a string data type\n",
        "    df['Postal Code'] = df['Postal Code'].astype(str)\n",
        "else:\n",
        "    print(\"The 'Postal Code' column does not exist in the DataFrame.\")\n",
        "\n",
        "# Display the updated DataFrame\n",
        "print(df)"
      ]
    },
    {
      "cell_type": "markdown",
      "metadata": {
        "id": "e42b0640"
      },
      "source": [
        "EXTRACT THE 'CITY' AND 'STATE' COLUMNS INTO A NEW COLUMN CALLED 'LOCATION' BY COMBINING THEM"
      ]
    },
    {
      "cell_type": "code",
      "execution_count": 21,
      "metadata": {
        "colab": {
          "base_uri": "https://localhost:8080/"
        },
        "id": "12998f44",
        "outputId": "a3fbf681-f7ef-4c2a-9e89-55b9074f51a0"
      },
      "outputs": [
        {
          "output_type": "stream",
          "name": "stdout",
          "text": [
            "      Row ID        Order ID  Order Date   Ship Date       Ship Mode  \\\n",
            "0          1  CA-2016-152156   11/8/2016  11/11/2016    Second Class   \n",
            "1          2  CA-2016-152156   11/8/2016  11/11/2016    Second Class   \n",
            "2          3  CA-2016-138688   6/12/2016   6/16/2016    Second Class   \n",
            "3          4  US-2015-108966  10/11/2015  10/18/2015  Standard Class   \n",
            "4          5  US-2015-108966  10/11/2015  10/18/2015  Standard Class   \n",
            "...      ...             ...         ...         ...             ...   \n",
            "9989    9990  CA-2014-110422   1/21/2014   1/23/2014    Second Class   \n",
            "9990    9991  CA-2017-121258   2/26/2017    3/3/2017  Standard Class   \n",
            "9991    9992  CA-2017-121258   2/26/2017    3/3/2017  Standard Class   \n",
            "9992    9993  CA-2017-121258   2/26/2017    3/3/2017  Standard Class   \n",
            "9993    9994  CA-2017-119914    5/4/2017    5/9/2017    Second Class   \n",
            "\n",
            "     Customer ID     Customer Name    Segment        Country             City  \\\n",
            "0       CG-12520       Claire Gute   Consumer  United States        Henderson   \n",
            "1       CG-12520       Claire Gute   Consumer  United States        Henderson   \n",
            "2       DV-13045   Darrin Van Huff  Corporate  United States      Los Angeles   \n",
            "3       SO-20335    Sean O'Donnell   Consumer  United States  Fort Lauderdale   \n",
            "4       SO-20335    Sean O'Donnell   Consumer  United States  Fort Lauderdale   \n",
            "...          ...               ...        ...            ...              ...   \n",
            "9989    TB-21400  Tom Boeckenhauer   Consumer  United States            Miami   \n",
            "9990    DB-13060       Dave Brooks   Consumer  United States       Costa Mesa   \n",
            "9991    DB-13060       Dave Brooks   Consumer  United States       Costa Mesa   \n",
            "9992    DB-13060       Dave Brooks   Consumer  United States       Costa Mesa   \n",
            "9993    CC-12220      Chris Cortes   Consumer  United States      Westminster   \n",
            "\n",
            "      ... Region       Product ID         Category Sub-Category  \\\n",
            "0     ...  South  FUR-BO-10001798        Furniture    Bookcases   \n",
            "1     ...  South  FUR-CH-10000454        Furniture       Chairs   \n",
            "2     ...   West  OFF-LA-10000240  Office Supplies       Labels   \n",
            "3     ...  South  FUR-TA-10000577        Furniture       Tables   \n",
            "4     ...  South  OFF-ST-10000760  Office Supplies      Storage   \n",
            "...   ...    ...              ...              ...          ...   \n",
            "9989  ...  South  FUR-FU-10001889        Furniture  Furnishings   \n",
            "9990  ...   West  FUR-FU-10000747        Furniture  Furnishings   \n",
            "9991  ...   West  TEC-PH-10003645       Technology       Phones   \n",
            "9992  ...   West  OFF-PA-10004041  Office Supplies        Paper   \n",
            "9993  ...   West  OFF-AP-10002684  Office Supplies   Appliances   \n",
            "\n",
            "                                           Product Name     Sales Quantity  \\\n",
            "0                     Bush Somerset Collection Bookcase  261.9600        2   \n",
            "1     Hon Deluxe Fabric Upholstered Stacking Chairs,...  731.9400        3   \n",
            "2     Self-Adhesive Address Labels for Typewriters b...   14.6200        2   \n",
            "3         Bretford CR4500 Series Slim Rectangular Table  957.5775        5   \n",
            "4                        Eldon Fold 'N Roll Cart System   22.3680        2   \n",
            "...                                                 ...       ...      ...   \n",
            "9989                             Ultra Door Pull Handle   25.2480        3   \n",
            "9990  Tenex B1-RE Series Chair Mats for Low Pile Car...   91.9600        2   \n",
            "9991                              Aastra 57i VoIP phone  258.5760        2   \n",
            "9992  It's Hot Message Books with Stickers, 2 3/4\" x 5\"   29.6000        4   \n",
            "9993  Acco 7-Outlet Masterpiece Power Center, Wihtou...  243.1600        2   \n",
            "\n",
            "      Discount    Profit                  Location  \n",
            "0         0.00   41.9136       Henderson, Kentucky  \n",
            "1         0.00  219.5820       Henderson, Kentucky  \n",
            "2         0.00    6.8714   Los Angeles, California  \n",
            "3         0.45 -383.0310  Fort Lauderdale, Florida  \n",
            "4         0.20    2.5164  Fort Lauderdale, Florida  \n",
            "...        ...       ...                       ...  \n",
            "9989      0.20    4.1028            Miami, Florida  \n",
            "9990      0.00   15.6332    Costa Mesa, California  \n",
            "9991      0.20   19.3932    Costa Mesa, California  \n",
            "9992      0.00   13.3200    Costa Mesa, California  \n",
            "9993      0.00   72.9480   Westminster, California  \n",
            "\n",
            "[9994 rows x 22 columns]\n"
          ]
        }
      ],
      "source": [
        "# Check if 'City' and 'State' columns exist\n",
        "if 'City' in df.columns and 'State' in df.columns:\n",
        "    # Combine 'City' and 'State' into a new 'Location' column\n",
        "    df['Location'] = df['City'] + ', ' + df['State']\n",
        "else:\n",
        "    print(\"The required columns 'City' and 'State' do not exist in the DataFrame.\")\n",
        "\n",
        "# Display the updated DataFrame\n",
        "print(df)"
      ]
    },
    {
      "cell_type": "markdown",
      "metadata": {
        "id": "7b4bb570"
      },
      "source": [
        "**3.DATA ANALYSIS**\n"
      ]
    },
    {
      "cell_type": "markdown",
      "metadata": {
        "id": "3c37c623"
      },
      "source": [
        "CALCULATING THE TOTAL SALES , TOTAL PROFIT AND AVERAGE DISCOUNT FOR EACH YEAR\n"
      ]
    },
    {
      "cell_type": "code",
      "execution_count": 22,
      "metadata": {
        "colab": {
          "base_uri": "https://localhost:8080/"
        },
        "id": "dbe6b34a",
        "outputId": "52b0d1a4-8e14-4c4e-e8d4-4cd1ef3781dc"
      },
      "outputs": [
        {
          "output_type": "stream",
          "name": "stdout",
          "text": [
            "Total Sales: 2297200.8603000003\n",
            "Total Profit: 286397.0217\n",
            "Average Discount: 0.15620272163297977\n"
          ]
        }
      ],
      "source": [
        "# Calculate the total sales, total profit, and average discount\n",
        "total_sales = df['Sales'].sum()\n",
        "total_profit = df['Profit'].sum()\n",
        "average_discount = df['Discount'].mean()\n",
        "\n",
        "#Printing the calculated amount\n",
        "print(\"Total Sales:\", total_sales)\n",
        "print(\"Total Profit:\", total_profit)\n",
        "print(\"Average Discount:\", average_discount)"
      ]
    },
    {
      "cell_type": "markdown",
      "metadata": {
        "id": "907b04b9"
      },
      "source": [
        "IDENTIFY THE TOP 10 PRODUCTS"
      ]
    },
    {
      "cell_type": "code",
      "execution_count": 23,
      "metadata": {
        "colab": {
          "base_uri": "https://localhost:8080/"
        },
        "id": "c4d54aaf",
        "outputId": "1681f867-e79b-4ecb-bee5-82654f3f8097"
      },
      "outputs": [
        {
          "output_type": "stream",
          "name": "stdout",
          "text": [
            "   Sub-Category        Sales\n",
            "13       Phones  330007.0540\n",
            "5        Chairs  328449.1030\n",
            "14      Storage  223843.6080\n",
            "16       Tables  206965.5320\n",
            "3       Binders  203412.7330\n",
            "11     Machines  189238.6310\n",
            "0   Accessories  167380.3180\n",
            "6       Copiers  149528.0300\n",
            "4     Bookcases  114879.9963\n",
            "1    Appliances  107532.1610\n"
          ]
        }
      ],
      "source": [
        "if 'Category' in df.columns and 'Sub-Category' in df.columns and 'Sales' in df.columns:\n",
        "    # Group by 'Sub Category' and sum the sales\n",
        "    subcategory_sales = df.groupby('Sub-Category',)['Sales'].sum().reset_index()\n",
        "\n",
        "    # Sort the subcategories by total sales in descending order\n",
        "    top_subcategories = subcategory_sales.sort_values(by='Sales', ascending=False)\n",
        "\n",
        "    # Select the top 10 subcategories\n",
        "    top_10_subcategories = top_subcategories.head(10)\n",
        "    # Display the top 10 subcategories\n",
        "    print(top_10_subcategories)\n",
        "else:\n",
        "    print(\"The required columns 'Category', 'Sub Category', and 'Sales' do not exist in the DataFrame.\")\n"
      ]
    },
    {
      "cell_type": "markdown",
      "metadata": {
        "id": "e699bfd3"
      },
      "source": [
        "DETERMINE THE REGION WITH HIGHEST PROFIT"
      ]
    },
    {
      "cell_type": "code",
      "execution_count": 24,
      "metadata": {
        "colab": {
          "base_uri": "https://localhost:8080/"
        },
        "id": "96025dae",
        "outputId": "543d3c11-081d-4a67-f677-369111cdfe15"
      },
      "outputs": [
        {
          "output_type": "stream",
          "name": "stdout",
          "text": [
            "Top Region is:  West\n",
            "Top profit of the region is:  108418.4489\n"
          ]
        }
      ],
      "source": [
        "# Check if 'Region' and 'Profit' columns exist\n",
        "if 'Region' in df.columns and 'Profit' in df.columns:\n",
        "    # Group by 'Region' and sum the profits\n",
        "    region_profit = df.groupby('Region')['Profit'].sum().reset_index()\n",
        "\n",
        "    # Sort the regions by total profit in descending order\n",
        "    top_region = region_profit.sort_values(by='Profit', ascending=False).iloc[0]\n",
        "\n",
        "    # Identify the region with the highest profit\n",
        "    print(\"Top Region is: \", top_region['Region'])\n",
        "    print(\"Top profit of the region is: \",top_region['Profit'])\n",
        "else:\n",
        "    print(\"The required columns 'Region' and 'Profit' do not exist in the DataFrame.\")"
      ]
    },
    {
      "cell_type": "markdown",
      "metadata": {
        "id": "e563dbc2"
      },
      "source": [
        "ANALYZE THE SALES AND PROFIT BY PRODUCT CATEGORY AND SUB CATERGORY"
      ]
    },
    {
      "cell_type": "code",
      "execution_count": 25,
      "metadata": {
        "colab": {
          "base_uri": "https://localhost:8080/"
        },
        "id": "3e83b12f",
        "outputId": "fbe6745b-478a-4029-ead5-71f663e94ff9"
      },
      "outputs": [
        {
          "output_type": "stream",
          "name": "stdout",
          "text": [
            "           Category Sub-Category        Sales      Profit\n",
            "0         Furniture    Bookcases  114879.9963  -3472.5560\n",
            "1         Furniture       Chairs  328449.1030  26590.1663\n",
            "2         Furniture  Furnishings   91705.1640  13059.1436\n",
            "3         Furniture       Tables  206965.5320 -17725.4811\n",
            "4   Office Supplies   Appliances  107532.1610  18138.0054\n",
            "5   Office Supplies          Art   27118.7920   6527.7870\n",
            "6   Office Supplies      Binders  203412.7330  30221.7633\n",
            "7   Office Supplies    Envelopes   16476.4020   6964.1767\n",
            "8   Office Supplies    Fasteners    3024.2800    949.5182\n",
            "9   Office Supplies       Labels   12486.3120   5546.2540\n",
            "10  Office Supplies        Paper   78479.2060  34053.5693\n",
            "11  Office Supplies      Storage  223843.6080  21278.8264\n",
            "12  Office Supplies     Supplies   46673.5380  -1189.0995\n",
            "13       Technology  Accessories  167380.3180  41936.6357\n",
            "14       Technology      Copiers  149528.0300  55617.8249\n",
            "15       Technology     Machines  189238.6310   3384.7569\n",
            "16       Technology       Phones  330007.0540  44515.7306\n"
          ]
        }
      ],
      "source": [
        "# Check if required columns exist\n",
        "required_columns = {'Category', 'Sub-Category', 'Sales', 'Profit'}\n",
        "if required_columns.issubset(df.columns):\n",
        "    # Group by 'Category' and 'Sub Category' and sum the sales and profits\n",
        "    category_subcategory_summary = df.groupby(['Category', 'Sub-Category']).agg({'Sales': 'sum','Profit': 'sum'}).reset_index()\n",
        "\n",
        "    # Display the aggregated results\n",
        "    print(category_subcategory_summary)\n",
        "\n",
        "\n",
        "else:\n",
        "    print(f\"The required columns {required_columns} do not exist in the DataFrame.\")"
      ]
    },
    {
      "cell_type": "markdown",
      "metadata": {
        "id": "f5729465"
      },
      "source": [
        "**4.DATA VISUALIZATION**\n"
      ]
    },
    {
      "cell_type": "markdown",
      "metadata": {
        "id": "3010efad"
      },
      "source": [
        "PERFORM A CORRELATION ANALYSIS BETWEEN NUMERICAL COLUMNS"
      ]
    },
    {
      "cell_type": "code",
      "execution_count": 26,
      "metadata": {
        "colab": {
          "base_uri": "https://localhost:8080/"
        },
        "id": "1479f2d7",
        "outputId": "037ed7c2-e6d4-4757-bee0-3f06d1858f4a"
      },
      "outputs": [
        {
          "output_type": "stream",
          "name": "stdout",
          "text": [
            "            Row ID     Sales  Quantity  Discount    Profit\n",
            "Row ID    1.000000 -0.001359 -0.004016  0.013480  0.012497\n",
            "Sales    -0.001359  1.000000  0.200795 -0.028190  0.479064\n",
            "Quantity -0.004016  0.200795  1.000000  0.008623  0.066253\n",
            "Discount  0.013480 -0.028190  0.008623  1.000000 -0.219487\n",
            "Profit    0.012497  0.479064  0.066253 -0.219487  1.000000\n"
          ]
        }
      ],
      "source": [
        "# Perform correlation analysis between numerical columns\n",
        "correlation_matrix = df.select_dtypes(include=['number']).corr()\n",
        "\n",
        "# Display the correlation matrix\n",
        "print(correlation_matrix)"
      ]
    },
    {
      "cell_type": "markdown",
      "metadata": {
        "id": "31bad06a"
      },
      "source": [
        "USE A PIVOT TABLE TO SUMMARIZE SALES AND PROFIT BY REGION AND CUSTOMER SEGMENT"
      ]
    },
    {
      "cell_type": "code",
      "execution_count": 27,
      "metadata": {
        "colab": {
          "base_uri": "https://localhost:8080/"
        },
        "id": "1fb09b94",
        "outputId": "3004fa61-4fa0-4431-8f8c-44a768a41508"
      },
      "outputs": [
        {
          "output_type": "stream",
          "name": "stdout",
          "text": [
            "     Region      Segment      Profit        Sales\n",
            "0   Central     Consumer   8564.0481  252031.4340\n",
            "1   Central    Corporate  18703.9020  157995.8128\n",
            "2   Central  Home Office  12438.4124   91212.6440\n",
            "3      East     Consumer  41190.9843  350908.1670\n",
            "4      East    Corporate  23622.5789  200409.3470\n",
            "5      East  Home Office  26709.2168  127463.7260\n",
            "6     South     Consumer  26913.5728  195580.9710\n",
            "7     South    Corporate  15215.2232  121885.9325\n",
            "8     South  Home Office   4620.6343   74255.0015\n",
            "9      West     Consumer  57450.6040  362880.7730\n",
            "10     West    Corporate  34437.4299  225855.2745\n",
            "11     West  Home Office  16530.4150  136721.7770\n"
          ]
        }
      ],
      "source": [
        "\n",
        "# Check if required columns exist\n",
        "required_columns = {'Region', 'Segment', 'Sales', 'Profit'}\n",
        "if required_columns.issubset(df.columns):\n",
        "    # Create a pivot table\n",
        "    pivot_table = pd.pivot_table(df, values=['Sales', 'Profit'],  index=['Region', 'Segment'], aggfunc='sum').reset_index()\n",
        "\n",
        "    # Display the pivot table\n",
        "    print(pivot_table)\n",
        "else:\n",
        "    print(f\"The required columns {required_columns} do not exist in the DataFrame.\")\n"
      ]
    },
    {
      "cell_type": "markdown",
      "metadata": {
        "id": "7fb98f0d"
      },
      "source": [
        "IDENTIFY ANY OUTLIERS IN THE SALES DATA USING BOX PLOT"
      ]
    },
    {
      "cell_type": "markdown",
      "metadata": {
        "id": "721a84d0"
      },
      "source": [
        "## 📈 Step 5: Visualization"
      ]
    },
    {
      "cell_type": "code",
      "execution_count": 28,
      "metadata": {
        "colab": {
          "base_uri": "https://localhost:8080/",
          "height": 620
        },
        "id": "fca8a748",
        "outputId": "aaa825fd-2d3c-4707-f39a-bad4847c9c14"
      },
      "outputs": [
        {
          "output_type": "stream",
          "name": "stderr",
          "text": [
            "/tmp/ipython-input-28-2144708499.py:11: MatplotlibDeprecationWarning: The 'labels' parameter of boxplot() has been renamed 'tick_labels' since Matplotlib 3.9; support for the old name will be dropped in 3.11.\n",
            "  plt.boxplot(sales_data, labels=segments)\n"
          ]
        },
        {
          "output_type": "display_data",
          "data": {
            "text/plain": [
              "<Figure size 1000x600 with 1 Axes>"
            ],
            "image/png": "[encoded data removed]"
          },
          "metadata": {}
        }
      ],
      "source": [
        "import matplotlib.pyplot as plt\n",
        "\n",
        "\n",
        "\n",
        "# Prepare data for box plot\n",
        "segments = df['Segment'].unique()\n",
        "sales_data = [df[df['Segment'] == segment]['Sales'] for segment in segments]\n",
        "\n",
        "# Plotting the box plot\n",
        "plt.figure(figsize=(10, 6))\n",
        "plt.boxplot(sales_data, labels=segments)\n",
        "plt.title('Box Plot of Sales by Segment')\n",
        "plt.xlabel('Segment')\n",
        "plt.ylabel('Sales')\n",
        "plt.show()"
      ]
    },
    {
      "cell_type": "markdown",
      "metadata": {
        "id": "d2c512e7"
      },
      "source": [
        "## ✅ Summary\n",
        "- Loaded the dataset using `pandas`\n",
        "- Cleaned missing values and converted data types\n",
        "- Explored basic statistics and plotted visual trends\n",
        "\n",
        "This foundational step is essential before any modeling or advanced analysis."
      ]
    }
  ],
  "metadata": {
    "colab": {
      "provenance": []
    },
    "kernelspec": {
      "display_name": "Python 3",
      "name": "python3"
    },
    "language_info": {
      "name": "python"
    }
  },
  "nbformat": 4,
  "nbformat_minor": 0
}